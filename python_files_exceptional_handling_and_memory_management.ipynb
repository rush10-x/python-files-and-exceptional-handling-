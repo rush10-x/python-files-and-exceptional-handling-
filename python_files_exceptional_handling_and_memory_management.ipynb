{
  "nbformat": 4,
  "nbformat_minor": 0,
  "metadata": {
    "colab": {
      "provenance": []
    },
    "kernelspec": {
      "name": "python3",
      "display_name": "Python 3"
    },
    "language_info": {
      "name": "python"
    }
  },
  "cells": [
    {
      "cell_type": "markdown",
      "source": [
        "# **THEORY QUESTIONS**"
      ],
      "metadata": {
        "id": "rS0SJYCPgdwO"
      }
    },
    {
      "cell_type": "markdown",
      "source": [
        "Q1. What is the difference between interpreted and compiled languages?\n",
        "- Difference between Interpreted and Compiled Languages\n",
        "1. Interpreted Languages: These languages are executed line-by-line by an interpreter at runtime. This means that the source code is translated into machine code on the fly, which can lead to slower execution times. Examples include Python, Ruby, and JavaScript.\n",
        "\n",
        "2. Compiled Languages: In contrast, compiled languages are translated into machine code by a compiler before execution. This results in a standalone executable file that can be run directly by the operating system, typically leading to faster execution times. Examples include C, C++, and Rust.\n",
        "\n",
        "\n",
        "Q2. What is exception handling in Python?\n",
        "- Exception handling in Python is a mechanism that allows developers to manage errors and exceptional conditions that may occur during the execution of a program. It uses the try, except, else, and finally blocks to catch and handle exceptions gracefully, preventing the program from crashing.\n",
        "\n",
        "\n",
        "Q3. What is the purpose of the finally block in exception handling?\n",
        "- The finally block in Python is used to define a block of code that will always execute, regardless of whether an exception was raised or not. This is useful for cleanup actions, such as closing files or releasing resources, ensuring that these actions are performed even if an error occurs.\n",
        "\n",
        "\n",
        "Q4. What is logging in Python?\n",
        "- Logging in Python is a way to track events that happen during the execution of a program. The logging module provides a flexible framework for emitting log messages from Python programs. It allows developers to record messages at different severity levels (DEBUG, INFO, WARNING, ERROR, CRITICAL) and can be configured to output logs to different destinations (console, files, etc.).\n",
        "\n",
        "\n",
        "Q5. What is the significance of the del method in Python?\n",
        "- The __del__ method in Python is a special method (also known as a destructor) that is called when an object is about to be destroyed. It allows for cleanup actions, such as releasing resources or closing files, before the object is removed from memory. However, its use is generally discouraged because the timing of its execution is not guaranteed, especially in the presence of circular references or when using garbage collection.\n",
        "\n"
      ],
      "metadata": {
        "id": "NvsfhWOcgpQL"
      }
    },
    {
      "cell_type": "markdown",
      "source": [
        "Q6. What is the difference between import and from ... import in Python?\n",
        "- import: This statement imports an entire module. You can access its functions, classes, and variables using the module name as a prefix.\n",
        "- from ... import: This statement imports specific attributes (functions, classes, or variables) from a module directly into the current namespace. This allows you to use them without the module prefix.\n",
        "\n",
        "\n"
      ],
      "metadata": {
        "id": "YXmNYyedhyjU"
      }
    },
    {
      "cell_type": "code",
      "source": [
        "# Q7.  How can you handle multiple exceptions in Python?\n",
        "# You can handle multiple exceptions in Python using a tuple in the except clause. Here’s an example:\n",
        "try:\n",
        "    # Code that may raise an exception\n",
        "    result = 10 / 0\n",
        "except (ZeroDivisionError, ValueError) as e:\n",
        "    print(f\"An error occurred: {e}\")"
      ],
      "metadata": {
        "colab": {
          "base_uri": "https://localhost:8080/"
        },
        "id": "4HhnNAFYiZAQ",
        "outputId": "faba0140-5b14-4eb8-b9da-1789330d8277"
      },
      "execution_count": null,
      "outputs": [
        {
          "output_type": "stream",
          "name": "stdout",
          "text": [
            "An error occurred: division by zero\n"
          ]
        }
      ]
    },
    {
      "cell_type": "markdown",
      "source": [
        "Q8. What is the purpose of the with statement when handling files in Python?\n",
        "- The with statement is used to wrap the execution of a block of code within methods defined by a context manager. When dealing with files, it ensures that the file is properly opened and closed, even if an error occurs during file operations. This helps prevent resource leaks.\n",
        "\n",
        "\n",
        "Q9. What is the difference between multithreading and multiprocessing?\n",
        "- Multithreading: This involves multiple threads within a single process. Threads share the same memory space, which makes it easier to share data between them. However, Python's Global Interpreter Lock (GIL) can limit the performance benefits of multithreading, especially for CPU-bound tasks.\n",
        "\n",
        "- Multiprocessing: This involves multiple processes, each with its own memory space. This allows for true parallelism, as each process can run on a separate CPU core. Multiprocessing is more suitable for CPU-bound tasks, while multithreading is often used for I/O-bound tasks.\n",
        "\n",
        "\n",
        "Q10. What are the advantages of using logging in a program?\n",
        "- Debugging: Logging provides a way to track events that happen during execution, which can help in diagnosing issues.\n",
        "\n",
        "- Monitoring: Logs can be used to monitor the application's behavior in production, allowing developers to understand how the application is performing.\n",
        "\n",
        "- Persistence: Unlike print statements, logs can be saved to files or external systems, providing a historical record of events.\n",
        "\n",
        "- Severity Levels: Logging allows categorization of messages (e.g., DEBUG, INFO, WARNING, ERROR, CRITICAL), making it easier to filter and prioritize messages.\n",
        "\n",
        "- Configurability: The logging module in Python is highly configurable, allowing you to control the output format, destination, and level of detail.\n",
        "\n",
        "- Non-intrusive: Logging can be added to a program without significantly altering its structure, making it easier to maintain.\n",
        "\n",
        "\n",
        "\n",
        "\n",
        "\n",
        "\n",
        "\n"
      ],
      "metadata": {
        "id": "oqF0crSLi6eV"
      }
    },
    {
      "cell_type": "markdown",
      "source": [
        "Q11. What is memory management in Python?\n",
        "- Memory management in Python refers to the process of allocating and deallocating memory for objects and data structures during the execution of a program. Python uses a combination of reference counting and a garbage collection system to manage memory. When an object is created, memory is allocated for it, and when it is no longer needed (i.e., when there are no references to it), the memory can be reclaimed. This helps prevent memory leaks and optimizes the use of memory resources.\n",
        "\n",
        "\n",
        "Q12. What are the basic steps involved in exception handling in Python?\n",
        "- The basic steps involved in exception handling in Python are:\n",
        "\n",
        "1. Try Block: Code that may potentially raise an exception is placed inside a try block.\n",
        "2. Except Block: If an exception occurs, the control is transferred to the corresponding except block, where the exception can be handled.\n",
        "3. Else Block (optional): If no exceptions occur, the code in the else block (if present) will execute.\n",
        "4. Finally Block (optional): The finally block, if present, will execute regardless of whether an exception occurred or not, typically used for cleanup actions.\n",
        "\n",
        "Q13. Why is memory management important in Python?\n",
        "- Memory management is important in Python for several reasons:\n",
        "\n",
        "1. Efficiency: Proper memory management ensures that memory is used efficiently, which can improve the performance of applications.\n",
        "2. Preventing Memory Leaks: Without effective memory management, programs can consume more memory over time, leading to memory leaks that can slow down or crash applications.\n",
        "3. Resource Management: It helps in managing system resources effectively, allowing multiple applications to run smoothly without exhausting memory.\n",
        "4. Automatic Management: Python's automatic memory management simplifies development, allowing developers to focus on writing code rather than managing memory manually.\n",
        "\n",
        "\n",
        "Q14. What is the role of try and except in exception handling?\n",
        "- The try and except blocks in Python are used to handle exceptions:\n",
        "\n",
        "1. Try Block: The try block contains code that might raise an exception. If an exception occurs, the normal flow of the program is interrupted, and control is transferred to the except block.\n",
        "2. Except Block: The except block contains code that handles the exception. It allows the programmer to define how to respond to specific exceptions, enabling graceful error handling and recovery without crashing the program.\n",
        "\n",
        "Q15. How does Python's garbage collection system work?\n",
        "- Python's garbage collection system primarily relies on two mechanisms:\n",
        "\n",
        "1. Reference Counting: Each object in Python maintains a count of references to it. When an object's reference count drops to zero (meaning no references to the object exist), the memory occupied by the object is immediately reclaimed.\n",
        "2. Cycle Detection: Python also includes a cyclic garbage collector to detect and collect objects that are part of reference cycles (where two or more objects reference each other). This is necessary because reference counting alone cannot reclaim memory for objects that are still referenced by each other but are no longer accessible from the program.\n",
        "\n",
        "The garbage collector runs periodically to identify and clean up these cycles, ensuring that memory is managed effectively and efficiently."
      ],
      "metadata": {
        "id": "XRcV4Jh4jwMh"
      }
    },
    {
      "cell_type": "markdown",
      "source": [
        "Q16. What is the purpose of the else block in exception handling?\n",
        "- In Python, the else block in exception handling is used to define a block of code that will run if the try block does not raise any exceptions. It allows you to separate the code that should run when no exceptions occur from the code that handles exceptions. This can improve code readability and maintainability.\n",
        "\n",
        "\n",
        "Q17. What are the common logging levels in Python?\n",
        "- Python's built-in logging module defines several logging levels, which indicate the severity of events. The common logging levels, in order of increasing severity, are:\n",
        "\n",
        "1. DEBUG: Detailed information, typically of interest only when diagnosing problems.\n",
        "2. INFO: Confirmation that things are working as expected.\n",
        "3. WARNING: An indication that something unexpected happened, or indicative of some problem in the near future (e.g., ‘disk space low’).\n",
        "4. ERROR: Due to a more serious problem, the software has not been able to perform some function.\n",
        "5. CRITICAL: A very serious error, indicating that the program itself may be unable to continue running.\n",
        "\n",
        "\n",
        "\n",
        "Q18. What is the difference between os.fork() and multiprocessing in Python?\n",
        "- os.fork(): This is a low-level system call that creates a new process by duplicating the current process. The new process is called the child process. It is available on Unix-like operating systems and is not available on Windows. The child process gets a copy of the parent's memory space, and both processes can run concurrently. However, using os.fork() directly can lead to complex issues with resource management and inter-process communication.\n",
        "\n",
        "- multiprocessing: This is a higher-level module in Python that provides a more convenient and powerful way to create and manage separate processes. It abstracts away many of the complexities associated with os.fork(), providing features like process pools, shared memory, and inter-process communication (IPC) mechanisms. The multiprocessing module is cross-platform and works on both Unix and Windows.\n",
        "\n",
        "\n",
        "Q19. What is the importance of closing a file in Python?\n",
        "- Closing a file in Python is important for several reasons:\n",
        "\n",
        "1. Resource Management: Each open file consumes system resources. Closing files releases these resources back to the operating system.\n",
        "2. Data Integrity: When writing to a file, data may be buffered in memory. Closing the file ensures that all buffered data is flushed and written to disk, preventing data loss.\n",
        "3. Avoiding Memory Leaks: Keeping files open unnecessarily can lead to memory leaks and can exhaust the limit of open file descriptors.\n",
        "4. Preventing Corruption: In some cases, failing to close a file properly can lead to file corruption, especially if the program crashes or is terminated unexpectedly.\n",
        "\n",
        "\n",
        "Q20. What is the difference between file.read() and file.readline() in Python?\n",
        "\n",
        "- file.read(): This method reads the entire content of the file at once and returns it as a single string. It can take an optional argument that specifies the number of bytes to read. If no argument is provided, it reads until the end of the file.\n",
        "\n",
        "- file.readline(): This method reads a single line from the file each time it is called. It returns the line as a string, including the newline character at the end. You can call it multiple times to read subsequent lines."
      ],
      "metadata": {
        "id": "MngA9OWflCko"
      }
    },
    {
      "cell_type": "markdown",
      "source": [
        "Q21. What is the logging module in Python used for?\n",
        "- The logging module in Python is used for tracking events that happen when software runs. It provides a flexible framework for emitting log messages from Python programs. The logging module allows developers to log messages at different severity levels (DEBUG, INFO, WARNING, ERROR, CRITICAL), which can be directed to different outputs (console, files, remote servers, etc.). This is useful for debugging, monitoring application behavior, and maintaining a record of events.\n",
        "\n",
        "\n",
        "Q22. What is the os module in Python used for in file handling?\n",
        "- The os module in Python provides a way to interact with the operating system. In the context of file handling, it allows you to perform operations such as:\n",
        "\n",
        "1. Creating, removing, and changing directories.\n",
        "2. Listing files and directories.\n",
        "3. Manipulating file paths (e.g., joining paths, splitting paths).\n",
        "4. Accessing environment variables.\n",
        "5. Performing file operations like renaming and removing files. The os module is essential for tasks that require interaction with the file system.\n",
        "\n",
        "\n",
        "Q23. What are the challenges associated with memory management in Python?\n",
        "- Memory management in Python comes with several challenges, including:\n",
        "\n",
        "1. Garbage Collection: Python uses automatic garbage collection, which can lead to unpredictable memory usage and performance issues if not managed properly.\n",
        "2. Memory Leaks: Although Python has garbage collection, circular references can lead to memory leaks if not handled correctly.\n",
        "3. Performance Overhead: The abstraction of memory management can introduce overhead, making it less efficient than lower-level languages.\n",
        "4. Limited Control: Developers have limited control over memory allocation and deallocation compared to languages like C or C++, which can lead to inefficiencies in certain applications.\n",
        "5. Fragmentation: Over time, memory fragmentation can occur, leading to inefficient use of memory."
      ],
      "metadata": {
        "id": "JkG3sdgynPyf"
      }
    },
    {
      "cell_type": "code",
      "source": [
        "# Q24. How do you raise an exception manually in Python?\n",
        "# You can raise an exception manually in Python using the raise statement. Here’s an example:\n",
        "def check_age(age):\n",
        "    if age < 18:\n",
        "        raise ValueError(\"Age must be at least 18.\")\n",
        "    return \"Access granted.\"\n",
        "\n",
        "try:\n",
        "    print(check_age(15))\n",
        "except ValueError as e:\n",
        "    print(e)\n",
        "\n"
      ],
      "metadata": {
        "colab": {
          "base_uri": "https://localhost:8080/"
        },
        "id": "tD2aBLHkprTE",
        "outputId": "ef0aadd6-f584-42c8-a180-6714278c2216"
      },
      "execution_count": null,
      "outputs": [
        {
          "output_type": "stream",
          "name": "stdout",
          "text": [
            "Age must be at least 18.\n"
          ]
        }
      ]
    },
    {
      "cell_type": "markdown",
      "source": [
        "Q25. Why is it important to use multithreading in certain applications?\n",
        "\n",
        "- Multithreading is important in certain applications for several reasons:\n",
        "\n",
        "1. Concurrency: It allows multiple threads to run concurrently, making better use of CPU resources and improving application responsiveness.\n",
        "2. I/O Bound Tasks: For applications that perform I/O operations (like reading from files, network requests, etc.), multithreading can help to keep the application responsive while waiting for I/O operations to complete.\n",
        "3. Resource Sharing: Threads within the same process share memory and resources, making it easier to share data between them compared to separate processes.\n",
        "4. Improved Performance: In CPU-bound tasks, multithreading can help distribute the workload across multiple CPU cores, potentially improving performance.\n",
        "5. User Experience: In GUI applications, multithreading can keep the interface responsive while performing background tasks, enhancing the user experience.\n"
      ],
      "metadata": {
        "id": "EgtVJWCIpqwL"
      }
    },
    {
      "cell_type": "markdown",
      "source": [
        "# **PRACTICAL QUESTIONS**"
      ],
      "metadata": {
        "id": "H5i3Ix4hqVBW"
      }
    },
    {
      "cell_type": "code",
      "source": [
        "# Q1. How can you open a file for writing in Python and write a string to it?\n",
        "# Open a file for writing\n",
        "with open('output.txt', 'w') as file:\n",
        "    # Write a string to the file\n",
        "    file.write('Hello, World!')"
      ],
      "metadata": {
        "id": "7qoA3o4WqaaX"
      },
      "execution_count": null,
      "outputs": []
    },
    {
      "cell_type": "code",
      "source": [
        "# Q2. Write a Python program to read the contents of a file and print each line\n",
        "\n",
        "def read_file(file_name):\n",
        "    try:\n",
        "        with open(file_name, 'r') as file:\n",
        "            for line in file:\n",
        "                print(line.strip())  # Using strip() to remove any leading/trailing whitespace\n",
        "    except FileNotFoundError:\n",
        "        print(f\"The file '{file_name}' was not found.\")\n",
        "    except Exception as e:\n",
        "        print(f\"An error occurred: {e}\")\n",
        "\n",
        "if __name__ == \"__main__\":\n",
        "    filename = input(\"Enter the filename to read: \")\n",
        "    read_file(filename)"
      ],
      "metadata": {
        "id": "R59d5iBiow40"
      },
      "execution_count": null,
      "outputs": []
    },
    {
      "cell_type": "code",
      "source": [
        "# Q3. How would you handle a case where the file doesn't exist while trying to open it for reading?\n",
        "try:\n",
        "    with open('non_existent_file.txt', 'r') as file:\n",
        "        contents = file.read()\n",
        "        print(contents)\n",
        "except FileNotFoundError:\n",
        "    print(\"The file does not exist.\")"
      ],
      "metadata": {
        "colab": {
          "base_uri": "https://localhost:8080/"
        },
        "id": "2h3pgytwt0lA",
        "outputId": "b0bd07f3-951e-42fd-ea03-c71b961169e9"
      },
      "execution_count": null,
      "outputs": [
        {
          "output_type": "stream",
          "name": "stdout",
          "text": [
            "The file does not exist.\n"
          ]
        }
      ]
    },
    {
      "cell_type": "code",
      "source": [
        "# Q4. Write a Python script that reads from one file and writes its content to another file?\n",
        "# Read from one file and write to another file\n",
        "input_file = 'input.txt'\n",
        "output_file = 'output.txt'\n",
        "\n",
        "try:\n",
        "    with open(input_file, 'r') as infile:\n",
        "        with open(output_file, 'w') as outfile:\n",
        "            for line in infile:\n",
        "                outfile.write(line)\n",
        "except FileNotFoundError:\n",
        "    print(f\"The file {input_file} does not exist.\")"
      ],
      "metadata": {
        "colab": {
          "base_uri": "https://localhost:8080/"
        },
        "id": "i2EnhY1kt_Z0",
        "outputId": "0f4ee072-7dd8-4749-c20d-a250ce2cea39"
      },
      "execution_count": null,
      "outputs": [
        {
          "output_type": "stream",
          "name": "stdout",
          "text": [
            "The file input.txt does not exist.\n"
          ]
        }
      ]
    },
    {
      "cell_type": "code",
      "source": [
        "# Q5. How would you catch and handle division by zero error in Python?\n",
        "try:\n",
        "    numerator = 10\n",
        "    denominator = 0\n",
        "    result = numerator / denominator\n",
        "except ZeroDivisionError:\n",
        "    print(\"Error: Division by zero is not allowed.\")"
      ],
      "metadata": {
        "colab": {
          "base_uri": "https://localhost:8080/"
        },
        "id": "ysaMSx8huIEy",
        "outputId": "96130743-9d71-4442-8d2f-437d337a52f6"
      },
      "execution_count": null,
      "outputs": [
        {
          "output_type": "stream",
          "name": "stdout",
          "text": [
            "Error: Division by zero is not allowed.\n"
          ]
        }
      ]
    },
    {
      "cell_type": "code",
      "source": [
        "# Q6. Write a Python program that logs an error message to a log file when a division by zero exception occurs?\n",
        "import logging\n",
        "\n",
        "# Configure the logging\n",
        "logging.basicConfig(filename='error_log.txt', level=logging.ERROR,\n",
        "                    format='%(asctime)s - %(levelname)s - %(message)s')\n",
        "\n",
        "def divide_numbers(num1, num2):\n",
        "    try:\n",
        "        result = num1 / num2\n",
        "        return result\n",
        "    except ZeroDivisionError as e:\n",
        "        logging.error(\"Division by zero error: %s\", e)\n",
        "        return None\n",
        "\n",
        "if __name__ == \"__main__\":\n",
        "    # Example usage\n",
        "    numerator = 10\n",
        "    denominator = 0  # Change this to a non-zero value to avoid the error\n",
        "\n",
        "    result = divide_numbers(numerator, denominator)\n",
        "    if result is not None:\n",
        "        print(f\"The result is: {result}\")\n",
        "    else:\n",
        "        print(\"An error occurred. Please check the log file for details.\")"
      ],
      "metadata": {
        "colab": {
          "base_uri": "https://localhost:8080/"
        },
        "id": "lTvRBhfUuQP0",
        "outputId": "40cb0f1e-bedc-4efd-c1ef-1f280ac81270"
      },
      "execution_count": null,
      "outputs": [
        {
          "output_type": "stream",
          "name": "stderr",
          "text": [
            "ERROR:root:Division by zero error: division by zero\n"
          ]
        },
        {
          "output_type": "stream",
          "name": "stdout",
          "text": [
            "An error occurred. Please check the log file for details.\n"
          ]
        }
      ]
    },
    {
      "cell_type": "code",
      "source": [
        "# Q7. How do you log information at different levels (INFO, ERROR, WARNING) in Python using the logging module?\n",
        "import logging\n",
        "\n",
        "# Configure logging\n",
        "logging.basicConfig(\n",
        "    level=logging.DEBUG,  # Set the minimum log level to DEBUG\n",
        "    format='%(asctime)s - %(levelname)s - %(message)s'  # Log message format\n",
        ")\n",
        "\n",
        "# Log messages at different levels\n",
        "logging.debug(\"This is a debug message.\")\n",
        "logging.info(\"This is an info message.\")\n",
        "logging.warning(\"This is a warning message.\")\n",
        "logging.error(\"This is an error message.\")\n",
        "logging.critical(\"This is a critical message.\")"
      ],
      "metadata": {
        "colab": {
          "base_uri": "https://localhost:8080/"
        },
        "id": "Nltaol_mu9us",
        "outputId": "e10f7203-4872-4567-a9d0-382ddf921d92"
      },
      "execution_count": null,
      "outputs": [
        {
          "output_type": "stream",
          "name": "stderr",
          "text": [
            "WARNING:root:This is a warning message.\n",
            "ERROR:root:This is an error message.\n",
            "CRITICAL:root:This is a critical message.\n"
          ]
        }
      ]
    },
    {
      "cell_type": "code",
      "source": [
        "# Q8. Write a program to handle a file opening error using exception handling.\n",
        "def read_file(file_path):\n",
        "    try:\n",
        "        # Attempt to open the file\n",
        "        with open(file_path, 'r') as file:\n",
        "            # Read the contents of the file\n",
        "            content = file.read()\n",
        "            print(\"File content:\")\n",
        "            print(content)\n",
        "    except FileNotFoundError:\n",
        "        print(f\"Error: The file '{file_path}' was not found.\")\n",
        "    except IOError:\n",
        "        print(f\"Error: An I/O error occurred while trying to read the file '{file_path}'.\")\n",
        "    except Exception as e:\n",
        "        print(f\"An unexpected error occurred: {e}\")\n",
        "\n",
        "if __name__ == \"__main__\":\n",
        "    # Specify the path to the file you want to read\n",
        "    file_path = 'example.txt'\n",
        "    read_file(file_path)"
      ],
      "metadata": {
        "colab": {
          "base_uri": "https://localhost:8080/"
        },
        "id": "cP5iB653vcuV",
        "outputId": "7db49bc1-1e66-49b6-9e46-7042fd52c55c"
      },
      "execution_count": null,
      "outputs": [
        {
          "output_type": "stream",
          "name": "stdout",
          "text": [
            "Error: The file 'example.txt' was not found.\n"
          ]
        }
      ]
    },
    {
      "cell_type": "code",
      "source": [
        "# Q9. How can you read a file line by line and store its content in a list in Python\n",
        "\n",
        "def read_file_to_list(file_name):\n",
        "    try:\n",
        "        with open(file_name, 'r') as file:\n",
        "            lines = file.readlines()  # Read all lines into a list\n",
        "            lines = [line.strip() for line in lines]  # Remove leading/trailing whitespace\n",
        "            return lines\n",
        "    except FileNotFoundError:\n",
        "        print(f\"The file '{file_name}' was not found.\")\n",
        "        return []\n",
        "    except Exception as e:\n",
        "        print(f\"An error occurred: {e}\")\n",
        "        return []\n",
        "\n",
        "if __name__ == \"__main__\":\n",
        "    filename = 'sample.txt'  # Change this to your file name\n",
        "    lines_list = read_file_to_list(filename)\n",
        "    print(lines_list)"
      ],
      "metadata": {
        "id": "SEOQkn9cpFoj"
      },
      "execution_count": null,
      "outputs": []
    },
    {
      "cell_type": "code",
      "source": [
        "# Q10. How can you append data to an existing file in Python\n",
        "\n",
        "with open('file.txt', 'a') as file:\n",
        "    file.write(\"This is the new data being appended.\\n\")\n",
        "print(\"Data successfully appended to the file.\")"
      ],
      "metadata": {
        "id": "C2Gl1N-id7_4",
        "colab": {
          "base_uri": "https://localhost:8080/"
        },
        "outputId": "b7157722-2fa6-41d2-fc06-f9acbea9b2be"
      },
      "execution_count": null,
      "outputs": [
        {
          "output_type": "stream",
          "name": "stdout",
          "text": [
            "Data successfully appended to the file.\n"
          ]
        }
      ]
    },
    {
      "cell_type": "code",
      "source": [
        "# Q11. Write a Python program that uses a try-except block to handle an error when attempting to access a dictionary key that doesn't exist\n",
        "\n",
        "# Sample dictionary\n",
        "my_dict = {\n",
        "    'name': 'Alice',\n",
        "    'age': 30,\n",
        "    'city': 'New York'\n",
        "}\n",
        "\n",
        "# Key to access\n",
        "key_to_access = 'country'  # This key does not exist in the dictionary\n",
        "\n",
        "try:\n",
        "    # Attempt to access the key\n",
        "    value = my_dict[key_to_access]\n",
        "    print(f\"The value for '{key_to_access}' is: {value}\")\n",
        "except KeyError:\n",
        "    # Handle the error if the key does not exist\n",
        "    print(f\"Error: The key '{key_to_access}' does not exist in the dictionary.\")"
      ],
      "metadata": {
        "colab": {
          "base_uri": "https://localhost:8080/"
        },
        "id": "kSMRVnXWeU54",
        "outputId": "b92bb4d8-2dd4-446a-e5da-679573c9c423"
      },
      "execution_count": null,
      "outputs": [
        {
          "output_type": "stream",
          "name": "stdout",
          "text": [
            "Error: The key 'country' does not exist in the dictionary.\n"
          ]
        }
      ]
    },
    {
      "cell_type": "code",
      "source": [
        "# Q12.  Write a program that demonstrates using multiple except blocks to handle different types of exceptions\n",
        "\n",
        "def divide_numbers():\n",
        "    try:\n",
        "        # Get user input for two numbers\n",
        "        num1 = float(input(\"Enter the first number: \"))\n",
        "        num2 = float(input(\"Enter the second number: \"))\n",
        "\n",
        "        # Perform division\n",
        "        result = num1 / num2\n",
        "        print(f\"The result of {num1} divided by {num2} is: {result}\")\n",
        "\n",
        "    except ValueError:\n",
        "        # Handle the case where the input is not a valid float\n",
        "        print(\"Error: Please enter valid numbers.\")\n",
        "\n",
        "    except ZeroDivisionError:\n",
        "        # Handle the case where the second number is zero\n",
        "        print(\"Error: Division by zero is not allowed.\")\n",
        "\n",
        "    except Exception as e:\n",
        "        # Handle any other exceptions\n",
        "        print(f\"An unexpected error occurred: {e}\")\n",
        "\n",
        "# Call the function\n",
        "divide_numbers()"
      ],
      "metadata": {
        "colab": {
          "base_uri": "https://localhost:8080/"
        },
        "id": "LIeTx32Yek-b",
        "outputId": "a954e379-eb5b-4492-c579-27db8b1e915b"
      },
      "execution_count": null,
      "outputs": [
        {
          "output_type": "stream",
          "name": "stdout",
          "text": [
            "Enter the first number: 10\n",
            "Enter the second number: 2\n",
            "The result of 10.0 divided by 2.0 is: 5.0\n"
          ]
        }
      ]
    },
    {
      "cell_type": "code",
      "source": [
        "# Q13. How would you check if a file exists before attempting to read it in Python\n",
        "\n",
        "import os\n",
        "file_path = 'filename.txt'\n",
        "if os.path.exists(file_path):\n",
        "    with open(file_path, 'r') as file:\n",
        "        content = file.read()\n",
        "        print(content)\n",
        "else:\n",
        "    print(f\"The file '{file_path}' does not exist.\")\n",
        "\n"
      ],
      "metadata": {
        "id": "ojplvt87e29n",
        "colab": {
          "base_uri": "https://localhost:8080/"
        },
        "outputId": "0c6db788-8450-4ed4-9645-3cf6acf5a20a"
      },
      "execution_count": null,
      "outputs": [
        {
          "output_type": "stream",
          "name": "stdout",
          "text": [
            "The file 'filename.txt' does not exist.\n"
          ]
        }
      ]
    },
    {
      "cell_type": "code",
      "source": [
        "# Q14.  Write a program that uses the logging module to log both informational and error messages\n",
        "\n",
        "import logging\n",
        "\n",
        "# Configure the logging\n",
        "logging.basicConfig(\n",
        "    level=logging.DEBUG,  # Set the logging level to DEBUG\n",
        "    format='%(asctime)s - %(levelname)s - %(message)s',  # Log format\n",
        "    handlers=[\n",
        "        logging.FileHandler('app.log'),  # Log to a file\n",
        "        logging.StreamHandler()  # Log to console\n",
        "    ]\n",
        ")\n",
        "\n",
        "def divide_numbers(num1, num2):\n",
        "    logging.info(\"Attempting to divide %s by %s\", num1, num2)\n",
        "    try:\n",
        "        result = num1 / num2\n",
        "        logging.info(\"Division successful: %s / %s = %s\", num1, num2, result)\n",
        "        return result\n",
        "    except ZeroDivisionError:\n",
        "        logging.error(\"Error: Division by zero attempted with num1=%s and num2=%s\", num1, num2)\n",
        "        return None\n",
        "    except Exception as e:\n",
        "        logging.error(\"An unexpected error occurred: %s\", e)\n",
        "        return None\n",
        "\n",
        "# Example usage\n",
        "if __name__ == \"__main__\":\n",
        "    divide_numbers(10, 2)  # This should log an informational message\n",
        "    divide_numbers(10, 0)  # This should log an error message"
      ],
      "metadata": {
        "colab": {
          "base_uri": "https://localhost:8080/"
        },
        "id": "jwbL38opfCUm",
        "outputId": "2283d3ee-4d76-4ab4-b746-9c0467db4ca8"
      },
      "execution_count": null,
      "outputs": [
        {
          "output_type": "stream",
          "name": "stderr",
          "text": [
            "ERROR:root:Error: Division by zero attempted with num1=10 and num2=0\n"
          ]
        }
      ]
    },
    {
      "cell_type": "code",
      "source": [
        "# Q15. Write a Python program that prints the content of a file and handles the case when the file is empty\n",
        "\n",
        "def read_file(file_path):\n",
        "    try:\n",
        "        with open(file_path, 'r') as file:\n",
        "            content = file.read()\n",
        "            if not content:  # Check if the content is empty\n",
        "                print(\"The file is empty.\")\n",
        "            else:\n",
        "                print(\"File content:\")\n",
        "                print(content)\n",
        "    except FileNotFoundError:\n",
        "        print(f\"Error: The file '{file_path}' does not exist.\")\n",
        "    except Exception as e:\n",
        "        print(f\"An unexpected error occurred: {e}\")\n",
        "\n",
        "# Example usage\n",
        "if __name__ == \"__main__\":\n",
        "    file_path = 'example.txt'  # Change this to the path of your file\n",
        "    read_file(file_path)"
      ],
      "metadata": {
        "colab": {
          "base_uri": "https://localhost:8080/"
        },
        "id": "k2-_ROuAfRia",
        "outputId": "e0bb552c-5077-415d-f1d8-c4d632b59f48"
      },
      "execution_count": null,
      "outputs": [
        {
          "output_type": "stream",
          "name": "stdout",
          "text": [
            "Error: The file 'example.txt' does not exist.\n"
          ]
        }
      ]
    },
    {
      "cell_type": "code",
      "source": [
        "# Q16.  Demonstrate how to use memory profiling to check the memory usage of a small program\n",
        "\n",
        "# example_program.py\n",
        "\n",
        "def create_squares(n):\n",
        "    squares = []\n",
        "    for i in range(n):\n",
        "        squares.append(i * i)\n",
        "    return squares\n",
        "\n",
        "def main():\n",
        "    n = 1000000  # Change this number to see how memory usage changes\n",
        "    squares = create_squares(n)\n",
        "    print(f\"Created {len(squares)} squares.\")\n",
        "\n",
        "if __name__ == \"__main__\":\n",
        "    main()"
      ],
      "metadata": {
        "colab": {
          "base_uri": "https://localhost:8080/"
        },
        "id": "0vwKFGo2feJU",
        "outputId": "641309bd-eeda-400d-a19f-ceecaf0a74d7"
      },
      "execution_count": null,
      "outputs": [
        {
          "output_type": "stream",
          "name": "stdout",
          "text": [
            "Created 1000000 squares.\n"
          ]
        }
      ]
    },
    {
      "cell_type": "code",
      "source": [
        "# Q17.  Write a Python program to create and write a list of numbers to a file, one number per line\n",
        "\n",
        "def write_numbers_to_file(filename, numbers):\n",
        "    \"\"\"Writes a list of numbers to a file, one number per line.\"\"\"\n",
        "    with open(filename, 'w') as file:\n",
        "        for number in numbers:\n",
        "            file.write(f\"{number}\\n\")\n",
        "\n",
        "def main():\n",
        "    # Create a list of numbers\n",
        "    numbers = [1, 2, 3, 4, 5, 6, 7, 8, 9, 10]\n",
        "\n",
        "    # Specify the filename\n",
        "    filename = 'numbers.txt'\n",
        "\n",
        "    # Write the numbers to the file\n",
        "    write_numbers_to_file(filename, numbers)\n",
        "    print(f\"Numbers written to {filename}\")\n",
        "\n",
        "if __name__ == \"__main__\":\n",
        "    main()"
      ],
      "metadata": {
        "colab": {
          "base_uri": "https://localhost:8080/"
        },
        "id": "pd51sw-TfvPA",
        "outputId": "b1604baf-6656-40f3-b31f-05f2de0671c9"
      },
      "execution_count": null,
      "outputs": [
        {
          "output_type": "stream",
          "name": "stdout",
          "text": [
            "Numbers written to numbers.txt\n"
          ]
        }
      ]
    },
    {
      "cell_type": "code",
      "source": [
        "# Q18. How would you implement a basic logging setup that logs to a file with rotation after 1MB\n",
        "\n",
        "import logging\n",
        "from logging.handlers import RotatingFileHandler\n",
        "\n",
        "# Define the log file name and the maximum file size (1MB)\n",
        "log_file = 'app.log'\n",
        "max_file_size = 1 * 1024 * 1024  # 1 MB\n",
        "backup_count = 5  # Number of backup files to keep\n",
        "\n",
        "# Create a logger\n",
        "logger = logging.getLogger('MyLogger')\n",
        "logger.setLevel(logging.DEBUG)  # Set the logging level\n",
        "\n",
        "# Create a rotating file handler\n",
        "handler = RotatingFileHandler(log_file, maxBytes=max_file_size, backupCount=backup_count)\n",
        "handler.setLevel(logging.DEBUG)  # Set the handler level\n",
        "\n",
        "# Create a formatter and set it for the handler\n",
        "formatter = logging.Formatter('%(asctime)s - %(name)s - %(levelname)s - %(message)s')\n",
        "handler.setFormatter(formatter)\n",
        "\n",
        "# Add the handler to the logger\n",
        "logger.addHandler(handler)\n",
        "\n",
        "# Example usage\n",
        "if __name__ == \"__main__\":\n",
        "    for i in range(10000):\n",
        "        logger.debug(f'This is a debug message {i}')\n",
        "        logger.info(f'This is an info message {i}')\n",
        "        logger.warning(f'This is a warning message {i}')\n",
        "        logger.error(f'This is an error message {i}')\n",
        "        logger.critical(f'This is a critical message {i}')\n"
      ],
      "metadata": {
        "id": "QczTdG_ugz36"
      },
      "execution_count": null,
      "outputs": []
    },
    {
      "cell_type": "code",
      "source": [
        "# Q19.  Write a program that handles both IndexError and KeyError using a try-except block\n",
        "\n",
        "def handle_exceptions():\n",
        "    my_list = [1, 2, 3]\n",
        "    my_dict = {\"a\": 10, \"b\": 20}\n",
        "\n",
        "    try:\n",
        "        # Attempting to access an out-of-range index\n",
        "        print(my_list[5])\n",
        "\n",
        "        # Attempting to access a non-existent key\n",
        "        print(my_dict[\"c\"])\n",
        "\n",
        "    except IndexError:\n",
        "        print(\"IndexError: Tried to access an invalid index in the list.\")\n",
        "\n",
        "    except KeyError:\n",
        "        print(\"KeyError: Tried to access a non-existent key in the dictionary.\")\n",
        "\n",
        "# Run the function\n",
        "handle_exceptions()\n"
      ],
      "metadata": {
        "colab": {
          "base_uri": "https://localhost:8080/"
        },
        "id": "NygT61XshmRD",
        "outputId": "cd8d8bb6-b13e-49a0-9dab-ddf4ebb3e32d"
      },
      "execution_count": null,
      "outputs": [
        {
          "output_type": "stream",
          "name": "stdout",
          "text": [
            "IndexError: Tried to access an invalid index in the list.\n"
          ]
        }
      ]
    },
    {
      "cell_type": "code",
      "source": [
        "# Q20. How would you open a file and read its contents using a context manager in Python\n",
        "def read_file_contents(filename):\n",
        "    \"\"\"Reads the contents of a file and prints them.\"\"\"\n",
        "    try:\n",
        "        with open(filename, 'r') as file:  # Open the file in read mode\n",
        "            contents = file.read()  # Read the entire file contents\n",
        "            print(contents)  # Print the contents\n",
        "    except FileNotFoundError:\n",
        "        print(f\"Error: The file '{filename}' was not found.\")\n",
        "    except IOError:\n",
        "        print(f\"Error: An I/O error occurred while reading the file '{filename}'.\")\n",
        "\n",
        "if __name__ == \"__main__\":\n",
        "    filename = 'example.txt'  # Specify the file name\n",
        "    read_file_contents(filename)"
      ],
      "metadata": {
        "colab": {
          "base_uri": "https://localhost:8080/"
        },
        "id": "mLR6lKtih4dU",
        "outputId": "fc9e82e6-8e78-4b59-8ab4-08b1bd5cdd95"
      },
      "execution_count": null,
      "outputs": [
        {
          "output_type": "stream",
          "name": "stdout",
          "text": [
            "Error: The file 'example.txt' was not found.\n"
          ]
        }
      ]
    },
    {
      "cell_type": "code",
      "source": [
        "# Q21.  Write a Python program that reads a file and prints the number of occurrences of a specific word\n",
        "\n",
        "def count_word_occurrences(filename, target_word):\n",
        "    \"\"\"Counts the occurrences of a specific word in a file.\"\"\"\n",
        "    try:\n",
        "        with open(filename, 'r') as file:  # Open the file in read mode\n",
        "            contents = file.read()  # Read the entire file contents\n",
        "            # Split the contents into words and count occurrences of the target word\n",
        "            word_list = contents.split()\n",
        "            count = word_list.count(target_word)\n",
        "            return count\n",
        "    except FileNotFoundError:\n",
        "        print(f\"Error: The file '{filename}' was not found.\")\n",
        "        return 0\n",
        "    except IOError:\n",
        "        print(f\"Error: An I/O error occurred while reading the file '{filename}'.\")\n",
        "        return 0\n",
        "\n",
        "def main():\n",
        "    # Prompt the user for the filename and the word to search for\n",
        "    filename = input(\"Enter the filename: \")\n",
        "    target_word = input(\"Enter the word to count: \")\n",
        "\n",
        "    # Count occurrences of the target word\n",
        "    occurrences = count_word_occurrences(filename, target_word)\n",
        "\n",
        "    # Print the result\n",
        "    print(f\"The word '{target_word}' occurs {occurrences} times in the file '{filename}'.\")\n",
        "\n",
        "if __name__ == \"__main__\":\n",
        "    main()"
      ],
      "metadata": {
        "colab": {
          "base_uri": "https://localhost:8080/"
        },
        "id": "_Mz1sCthiGUz",
        "outputId": "7f243247-481f-4908-e4ce-2f30229d716f"
      },
      "execution_count": null,
      "outputs": [
        {
          "output_type": "stream",
          "name": "stdout",
          "text": [
            "Enter the filename: python_OOPS.ipynb\n",
            "Enter the word to count: 5\n",
            "Error: The file 'python_OOPS.ipynb' was not found.\n",
            "The word '5' occurs 0 times in the file 'python_OOPS.ipynb'.\n"
          ]
        }
      ]
    },
    {
      "cell_type": "code",
      "source": [
        "# Q22.  How can you check if a file is empty before attempting to read its contents\n",
        "\n",
        "import os\n",
        "\n",
        "def is_file_empty(file_path):\n",
        "    return os.path.exists(file_path) and os.path.getsize(file_path) == 0\n",
        "\n",
        "# Example usage\n",
        "file_path = 'example.txt'\n",
        "if is_file_empty(file_path):\n",
        "    print(\"The file is empty.\")\n",
        "else:\n",
        "    print(\"The file is not empty.\")"
      ],
      "metadata": {
        "colab": {
          "base_uri": "https://localhost:8080/"
        },
        "id": "xOxxdmkgixWI",
        "outputId": "4fd88da8-47d2-4bcc-9858-852da996bcb4"
      },
      "execution_count": null,
      "outputs": [
        {
          "output_type": "stream",
          "name": "stdout",
          "text": [
            "The file is not empty.\n"
          ]
        }
      ]
    },
    {
      "cell_type": "code",
      "source": [
        "# Q23. Write a Python program that writes to a log file when an error occurs during file handling.\n",
        "\n",
        "import logging\n",
        "\n",
        "# Configure logging\n",
        "logging.basicConfig(filename='error_log.txt', level=logging.ERROR,\n",
        "                    format='%(asctime)s - %(levelname)s - %(message)s')\n",
        "\n",
        "def read_file(file_path):\n",
        "    try:\n",
        "        with open(file_path, 'r') as file:\n",
        "            contents = file.read()\n",
        "            print(contents)\n",
        "    except FileNotFoundError:\n",
        "        logging.error(f\"File not found: {file_path}\")\n",
        "        print(f\"Error: The file '{file_path}' was not found.\")\n",
        "    except IOError as e:\n",
        "        logging.error(f\"IO error occurred: {e}\")\n",
        "        print(f\"Error: An I/O error occurred while reading the file '{file_path}'.\")\n",
        "\n",
        "# Example usage\n",
        "file_path = 'example.txt'\n",
        "read_file(file_path)"
      ],
      "metadata": {
        "colab": {
          "base_uri": "https://localhost:8080/"
        },
        "id": "64zK3zS4jQ3Y",
        "outputId": "9831f0c0-2283-4679-8d9f-e2e66f2fbade"
      },
      "execution_count": null,
      "outputs": [
        {
          "output_type": "stream",
          "name": "stderr",
          "text": [
            "ERROR:root:File not found: example.txt\n"
          ]
        },
        {
          "output_type": "stream",
          "name": "stdout",
          "text": [
            "Error: The file 'example.txt' was not found.\n"
          ]
        }
      ]
    }
  ]
}